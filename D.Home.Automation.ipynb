{
 "metadata": {
  "name": "",
  "signature": "sha256:01122965641715232e3b2133b0f13d40006aa7fe22f38a3d933fafda361c4e6a"
 },
 "nbformat": 3,
 "nbformat_minor": 0,
 "worksheets": [
  {
   "cells": [
    {
     "cell_type": "markdown",
     "metadata": {},
     "source": [
      "#Welcome\n",
      "Welcome to the Home Automation project notes pages."
     ]
    }
   ],
   "metadata": {}
  }
 ]
}