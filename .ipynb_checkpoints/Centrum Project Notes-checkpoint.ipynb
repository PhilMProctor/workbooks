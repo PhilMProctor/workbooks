{
 "metadata": {
  "name": ""
 },
 "nbformat": 3,
 "nbformat_minor": 0,
 "worksheets": [
  {
   "cells": [
    {
     "cell_type": "raw",
     "metadata": {},
     "source": [
      "The jinja if loop checks the switch state [ 0 = Off4) 1 = On] and selects the appropriate icon.\n",
      "(22/12/14) Removed from [lights.html] current due to no way of confirming with the remote device whether or not the transmitted instruction was received."
     ]
    },
    {
     "cell_type": "code",
     "collapsed": false,
     "input": [
      "{% extends \"base.html\" %}\n",
      "{% block content %}\n",
      "      {% for switch in cursor %}\n",
      "        <div class=\"row\">\n",
      "          <div class=\"col-xs-6\">\n",
      "            <p align=\"center\">\n",
      "              <a class=\"btn btn-lg btn-warning\">{{switch[1]}}\n",
      "              <br>\n",
      "              <i class=\"fa fa-lightbulb-o fa-4x\"></i>\n",
      "              </a>\n",
      "            </p>\n",
      "          </div>\n",
      "          <div class=\"col-xs-6\">\n",
      "            <p align=\"center\">\n",
      "\n",
      "              <a class=\"btn btn-lg btn-warning\">\n",
      "              {% if switch[5] == 0 %}\n",
      "              off<br>\n",
      "              <i class=\"fa fa-toggle-off fa-4x\"></i>\n",
      "              {% else %}\n",
      "              on<br>\n",
      "               <i class=\"fa fa-toggle-on fa-4x\"></i>\n",
      "               {% endif %}\n",
      "              </a>\n",
      "            </p>\n",
      "          </div>\n",
      "        </div>\n",
      "      {% endfor %}\n",
      "    </div>\n",
      "\n",
      "  </div>\n",
      "\n",
      "</div>\n",
      "{% endblock %}"
     ],
     "language": "python",
     "metadata": {},
     "outputs": []
    },
    {
     "cell_type": "code",
     "collapsed": false,
     "input": [],
     "language": "python",
     "metadata": {},
     "outputs": []
    }
   ],
   "metadata": {}
  }
 ]
}